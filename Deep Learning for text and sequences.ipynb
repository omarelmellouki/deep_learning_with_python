{
 "cells": [
  {
   "cell_type": "code",
   "execution_count": 30,
   "metadata": {},
   "outputs": [
    {
     "name": "stdout",
     "output_type": "stream",
     "text": [
      "{'The': 0, 'dog': 1, 'ate': 2, 'my': 3, 'homework': 4, 'cat': 5, 'sat': 6, 'on': 7, 'the': 8, 'mat': 9}\n",
      "[[[1. 0. 0. 0. 0. 0. 0. 0. 0. 0.]\n",
      "  [0. 1. 0. 0. 0. 0. 0. 0. 0. 0.]\n",
      "  [0. 0. 1. 0. 0. 0. 0. 0. 0. 0.]\n",
      "  [0. 0. 0. 1. 0. 0. 0. 0. 0. 0.]\n",
      "  [0. 0. 0. 0. 1. 0. 0. 0. 0. 0.]\n",
      "  [0. 0. 0. 0. 0. 0. 0. 0. 0. 0.]\n",
      "  [0. 0. 0. 0. 0. 0. 0. 0. 0. 0.]\n",
      "  [0. 0. 0. 0. 0. 0. 0. 0. 0. 0.]\n",
      "  [0. 0. 0. 0. 0. 0. 0. 0. 0. 0.]\n",
      "  [0. 0. 0. 0. 0. 0. 0. 0. 0. 0.]]\n",
      "\n",
      " [[1. 0. 0. 0. 0. 0. 0. 0. 0. 0.]\n",
      "  [0. 0. 0. 0. 0. 1. 0. 0. 0. 0.]\n",
      "  [0. 0. 0. 0. 0. 0. 1. 0. 0. 0.]\n",
      "  [0. 0. 0. 0. 0. 0. 0. 1. 0. 0.]\n",
      "  [0. 0. 0. 0. 0. 0. 0. 0. 1. 0.]\n",
      "  [0. 0. 0. 0. 0. 0. 0. 0. 0. 1.]\n",
      "  [0. 0. 0. 0. 0. 0. 0. 0. 0. 0.]\n",
      "  [0. 0. 0. 0. 0. 0. 0. 0. 0. 0.]\n",
      "  [0. 0. 0. 0. 0. 0. 0. 0. 0. 0.]\n",
      "  [0. 0. 0. 0. 0. 0. 0. 0. 0. 0.]]]\n"
     ]
    }
   ],
   "source": [
    "# Illustrating how to create one-hot encoding \n",
    "\n",
    "import numpy as np \n",
    "\n",
    "samples = ['The dog ate my homework','The cat sat on the mat']\n",
    "\n",
    "# We create the index\n",
    "# Its a dictionary\n",
    "index = {}\n",
    "\n",
    "i= 0\n",
    "# We take the first sample\n",
    "for sample in samples:\n",
    "    # We split the sentence into words\n",
    "    for word in sample.split():\n",
    "        if word not in index:\n",
    "            index[word] = i\n",
    "            i += 1\n",
    "print(index)\n",
    "\n",
    "# We now make the vector one-hot encoded\n",
    "# Maximum length of a sentence\n",
    "max_len = 10\n",
    "\n",
    "# As many lines as there are sentences \n",
    "# As many columns as there can be words per sentence (max_len)\n",
    "# Depth equals the number of words in the index \n",
    "encoded = np.zeros((len(samples),max_len,max(index.values())+1))\n",
    "\n",
    "for i in range(len(samples)):\n",
    "    for j in range(max_len):\n",
    "        sentence = samples[i].split()\n",
    "        if j<len(sentence):\n",
    "            word = sentence[j]\n",
    "            encoded[i,j,index[word]] = 1\n",
    "            \n",
    "print(encoded)"
   ]
  },
  {
   "cell_type": "code",
   "execution_count": 42,
   "metadata": {},
   "outputs": [],
   "source": [
    "# Character level \n",
    "\n",
    "import string\n",
    "\n",
    "samples = ['The dog ate my homework','The cat sat on the mat']\n",
    "\n",
    "characters = string.printable\n",
    "# We get all the 100 printable characters\n",
    "token_index = dict(zip(range(1,len(characters)+1),characters))\n",
    "\n",
    "max_len = 50\n",
    "\n",
    "encoded = np.zeros(shape = (len(samples),max_len,len(token_index)))\n",
    "\n",
    "for i,sample in enumerate(samples):\n",
    "    for j, char in enumerate(sample):\n",
    "        index = token_index.get(char)\n",
    "        encoded[i,j,index] = 1\n",
    "            "
   ]
  },
  {
   "cell_type": "code",
   "execution_count": 51,
   "metadata": {},
   "outputs": [
    {
     "name": "stdout",
     "output_type": "stream",
     "text": [
      "[[0. 1. 1. ... 0. 0. 0.]\n",
      " [0. 1. 0. ... 0. 0. 0.]]\n"
     ]
    }
   ],
   "source": [
    "# Using the tokenizers\n",
    "\n",
    "import tensorflow\n",
    "from tensorflow.keras.preprocessing.text import Tokenizer\n",
    "\n",
    "# To keep only the 1000 most \n",
    "tokenizer = Tokenizer(num_words = 1000)\n",
    "tokenizer.fit_on_texts(samples)\n",
    "\n",
    "sequences = tokenizer.texts_to_sequences(samples)\n",
    "\n",
    "one_hot_results = tokenizer.texts_to_matrix(samples,mode='binary')\n",
    "\n",
    "print(one_hot_results)"
   ]
  },
  {
   "cell_type": "code",
   "execution_count": 60,
   "metadata": {},
   "outputs": [],
   "source": [
    "from tensorflow.keras.datasets import imdb\n",
    "from tensorflow.keras import preprocessing\n",
    "\n",
    "max_features = 10000\n",
    "max_len = 20\n",
    "\n",
    "# We extract the imdb data set but we keep only the max_features most reccuring words\n",
    "(x_train,y_train),(x_test,y_test) = imdb.load_data(num_words=max_features)\n",
    "\n",
    "# We pad the sequences\n",
    "x_train = preprocessing.sequence.pad_sequences(x_train,maxlen = max_len)\n",
    "x_test = preprocessing.sequence.pad_sequences(x_test,maxlen=max_len)"
   ]
  },
  {
   "cell_type": "code",
   "execution_count": 63,
   "metadata": {},
   "outputs": [
    {
     "name": "stdout",
     "output_type": "stream",
     "text": [
      "Epoch 1/10\n",
      "625/625 [==============================] - 1s 1ms/step - loss: 0.6710 - accuracy: 0.6191 - val_loss: 0.6235 - val_accuracy: 0.6924\n",
      "Epoch 2/10\n",
      "625/625 [==============================] - 1s 1ms/step - loss: 0.5465 - accuracy: 0.7506 - val_loss: 0.5298 - val_accuracy: 0.7278\n",
      "Epoch 3/10\n",
      "625/625 [==============================] - 1s 1ms/step - loss: 0.4632 - accuracy: 0.7882 - val_loss: 0.5018 - val_accuracy: 0.7490\n",
      "Epoch 4/10\n",
      "625/625 [==============================] - 1s 1ms/step - loss: 0.4216 - accuracy: 0.8081 - val_loss: 0.4943 - val_accuracy: 0.7502\n",
      "Epoch 5/10\n",
      "625/625 [==============================] - 1s 1ms/step - loss: 0.3926 - accuracy: 0.8258 - val_loss: 0.4949 - val_accuracy: 0.7536\n",
      "Epoch 6/10\n",
      "625/625 [==============================] - 1s 1ms/step - loss: 0.3685 - accuracy: 0.8415 - val_loss: 0.4987 - val_accuracy: 0.7556\n",
      "Epoch 7/10\n",
      "625/625 [==============================] - 1s 1ms/step - loss: 0.3471 - accuracy: 0.8522 - val_loss: 0.5028 - val_accuracy: 0.7556\n",
      "Epoch 8/10\n",
      "625/625 [==============================] - 1s 1ms/step - loss: 0.3268 - accuracy: 0.8631 - val_loss: 0.5108 - val_accuracy: 0.7542\n",
      "Epoch 9/10\n",
      "625/625 [==============================] - 1s 1ms/step - loss: 0.3083 - accuracy: 0.8726 - val_loss: 0.5191 - val_accuracy: 0.7516\n",
      "Epoch 10/10\n",
      "625/625 [==============================] - 1s 1ms/step - loss: 0.2901 - accuracy: 0.8819 - val_loss: 0.5290 - val_accuracy: 0.7510\n"
     ]
    }
   ],
   "source": [
    "# We use and embedding layer and classifier \n",
    "\n",
    "from tensorflow.keras.layers import Dense, Embedding, Flatten\n",
    "from tensorflow.keras.models import Sequential\n",
    "\n",
    "model = Sequential()\n",
    "# the first argument is the number of possible tokens, the second is the dimensionality of the embeddings \n",
    "model.add(Embedding(max_features,8,input_length=max_len))\n",
    "model.add(Flatten())\n",
    "# Last layer of a model made for a binary classifier \n",
    "model.add(Dense(1,activation='sigmoid'))\n",
    "\n",
    "model.compile(optimizer = 'rmsprop',loss='binary_crossentropy',metrics=['accuracy'])\n",
    "\n",
    "history = model.fit(\n",
    "    x_train, y_train,epochs = 10, batch_size = 32,validation_split = 0.2\n",
    ")"
   ]
  },
  {
   "cell_type": "code",
   "execution_count": 113,
   "metadata": {},
   "outputs": [],
   "source": [
    "# Using pretrained embedding : Starting from raw data to embedding \n",
    "\n",
    "import os\n",
    "\n",
    "base_dir ='./aclImdb'\n",
    "train_dir = os.path.join(base_dir,'train')\n",
    "\n",
    "sequences = []\n",
    "targets = []\n",
    "\n",
    "# We go through each directory\n",
    "for label_type in ['neg','pos']:\n",
    "    \n",
    "    # We get in the directory\n",
    "    text_dir = os.path.join(train_dir,label_type)\n",
    "    \n",
    "    for fname in os.listdir(text_dir):\n",
    "        \n",
    "        file = os.path.join(text_dir,fname)\n",
    "        f = open(file)\n",
    "        text = f.read()\n",
    "        sequences.append(text)\n",
    "        f.close()\n",
    "        \n",
    "        if label_type == 'neg':\n",
    "            targets.append(0)\n",
    "        else:\n",
    "            targets.append(1)"
   ]
  },
  {
   "cell_type": "code",
   "execution_count": 114,
   "metadata": {},
   "outputs": [
    {
     "name": "stdout",
     "output_type": "stream",
     "text": [
      "25000\n"
     ]
    }
   ],
   "source": [
    "print(len(sequences))"
   ]
  },
  {
   "cell_type": "code",
   "execution_count": 115,
   "metadata": {},
   "outputs": [
    {
     "name": "stdout",
     "output_type": "stream",
     "text": [
      "Found 88582 unique tokens\n"
     ]
    }
   ],
   "source": [
    "from tensorflow.keras.preprocessing.sequence import pad_sequences\n",
    "from tensorflow.keras.preprocessing.text import Tokenizer\n",
    "\n",
    "maxlen = 100\n",
    "max_words = 10000\n",
    "validation_samples = 10000\n",
    "# To illustrate the usefulness of pretrained embeddings\n",
    "training_samples = 10000\n",
    "\n",
    "tokenizer = Tokenizer(num_words=max_words)\n",
    "tokenizer.fit_on_texts(sequences)\n",
    "sequences = tokenizer.texts_to_sequences(sequences)\n",
    "\n",
    "word_index = tokenizer.word_index\n",
    "print('Found %s unique tokens' % len(word_index))"
   ]
  },
  {
   "cell_type": "code",
   "execution_count": 87,
   "metadata": {},
   "outputs": [],
   "source": [
    "data = pad_sequences(sequences,maxlen)"
   ]
  },
  {
   "cell_type": "code",
   "execution_count": 92,
   "metadata": {},
   "outputs": [
    {
     "name": "stdout",
     "output_type": "stream",
     "text": [
      "(25000, 100)\n",
      "(25000,)\n"
     ]
    }
   ],
   "source": [
    "labels = np.asarray(targets)\n",
    "print(data.shape)\n",
    "print(labels.shape)"
   ]
  },
  {
   "cell_type": "code",
   "execution_count": 116,
   "metadata": {},
   "outputs": [],
   "source": [
    "indices = np.arange(data.shape[0])\n",
    "# To shuffle the data\n",
    "np.random.shuffle(indices)\n",
    "\n",
    "data = data[indices]\n",
    "labels = labels[indices]\n",
    "\n",
    "x_train = data[:training_samples]\n",
    "y_train = labels[:training_samples]\n",
    "\n",
    "x_val = data[training_samples:training_samples+validation_samples]\n",
    "y_val = labels[training_samples:training_samples+validation_samples]"
   ]
  },
  {
   "cell_type": "code",
   "execution_count": 99,
   "metadata": {},
   "outputs": [],
   "source": [
    "glove_dir = './glove.6B'\n",
    "\n",
    "embedding_index = {}\n",
    "\n",
    "# We open the .txt file \n",
    "f = open(os.path.join(glove_dir,'glove.6B.100d.txt'))\n",
    "for line in f:\n",
    "    # We read each line\n",
    "    values = line.split()\n",
    "    # We plit it into words\n",
    "    # We get the first word, which is the one embedded on this line\n",
    "    word = values[0]\n",
    "    # Then we get its embedding\n",
    "    coeffs = np.asarray(values[1:],dtype = 'float32')\n",
    "    \n",
    "    embedding_index[word]= coeffs\n",
    "f.close()\n",
    "\n",
    "\n",
    "embedding_dim = 100\n",
    "\n",
    "# We build an empty matrix to begin with \n",
    "embedding_matrix = np.zeros((max_words, embedding_dim))\n",
    "# We go through the index of the words available in our raw data\n",
    "for word, i in word_index.items():\n",
    "    # We get the embedding of said word by looking at the dictionary we build from the embedding matrix \n",
    "    embedding_vector = embedding_index.get(word)\n",
    "    if i < max_words:\n",
    "        if embedding_vector is not None:\n",
    "            # Words not found in embedding index will be all-zeros.\n",
    "            embedding_matrix[i] = embedding_vector"
   ]
  },
  {
   "cell_type": "code",
   "execution_count": 121,
   "metadata": {},
   "outputs": [
    {
     "name": "stdout",
     "output_type": "stream",
     "text": [
      "Model: \"sequential_12\"\n",
      "_________________________________________________________________\n",
      "Layer (type)                 Output Shape              Param #   \n",
      "=================================================================\n",
      "embedding_12 (Embedding)     (None, 100, 100)          1000000   \n",
      "_________________________________________________________________\n",
      "flatten_8 (Flatten)          (None, 10000)             0         \n",
      "_________________________________________________________________\n",
      "dense_14 (Dense)             (None, 32)                320032    \n",
      "_________________________________________________________________\n",
      "dense_15 (Dense)             (None, 1)                 33        \n",
      "=================================================================\n",
      "Total params: 1,320,065\n",
      "Trainable params: 1,320,065\n",
      "Non-trainable params: 0\n",
      "_________________________________________________________________\n"
     ]
    }
   ],
   "source": [
    "# We now build the model\n",
    "\n",
    "from tensorflow.keras.models import Sequential\n",
    "from tensorflow.keras.layers import Embedding, Flatten, Dense\n",
    "\n",
    "model = Sequential()\n",
    "model.add(Embedding(max_words,embedding_dim,input_length=maxlen))\n",
    "model.add(Flatten())\n",
    "model.add(Dense(32,activation='relu'))\n",
    "model.add(Dense(1,activation='sigmoid'))\n",
    "\n",
    "model.summary()"
   ]
  },
  {
   "cell_type": "code",
   "execution_count": 122,
   "metadata": {},
   "outputs": [],
   "source": [
    "model.layers[0].set_weights([embedding_matrix])\n",
    "model.layers[0].trainable = False"
   ]
  },
  {
   "cell_type": "code",
   "execution_count": 123,
   "metadata": {},
   "outputs": [
    {
     "name": "stdout",
     "output_type": "stream",
     "text": [
      "Epoch 1/10\n",
      "313/313 [==============================] - 1s 3ms/step - loss: 0.6601 - accuracy: 0.6199 - val_loss: 0.6498 - val_accuracy: 0.5980\n",
      "Epoch 2/10\n",
      "313/313 [==============================] - 1s 3ms/step - loss: 0.5342 - accuracy: 0.7387 - val_loss: 0.6970 - val_accuracy: 0.6256\n",
      "Epoch 3/10\n",
      "313/313 [==============================] - 1s 3ms/step - loss: 0.4668 - accuracy: 0.7820 - val_loss: 0.5683 - val_accuracy: 0.7096\n",
      "Epoch 4/10\n",
      "313/313 [==============================] - 1s 4ms/step - loss: 0.4067 - accuracy: 0.8197 - val_loss: 0.6409 - val_accuracy: 0.6885\n",
      "Epoch 5/10\n",
      "313/313 [==============================] - 1s 5ms/step - loss: 0.3665 - accuracy: 0.8391 - val_loss: 0.6623 - val_accuracy: 0.6927\n",
      "Epoch 6/10\n",
      "313/313 [==============================] - 1s 3ms/step - loss: 0.3311 - accuracy: 0.8572 - val_loss: 0.9080 - val_accuracy: 0.6462\n",
      "Epoch 7/10\n",
      "313/313 [==============================] - 1s 3ms/step - loss: 0.2886 - accuracy: 0.8751 - val_loss: 0.7238 - val_accuracy: 0.6929\n",
      "Epoch 8/10\n",
      "313/313 [==============================] - 1s 3ms/step - loss: 0.2570 - accuracy: 0.8928 - val_loss: 0.7307 - val_accuracy: 0.7008\n",
      "Epoch 9/10\n",
      "313/313 [==============================] - 1s 3ms/step - loss: 0.2226 - accuracy: 0.9075 - val_loss: 0.8925 - val_accuracy: 0.6738\n",
      "Epoch 10/10\n",
      "313/313 [==============================] - 1s 3ms/step - loss: 0.1970 - accuracy: 0.9208 - val_loss: 0.8356 - val_accuracy: 0.6946\n"
     ]
    }
   ],
   "source": [
    "model.compile(optimizer = 'rmsprop',loss='binary_crossentropy',metrics=['accuracy'])\n",
    "history = model.fit(x_train, y_train, epochs = 10, batch_size = 32, validation_data=(x_val,y_val))\n",
    "model.save_weights('pre_trained_glove_model.h5')"
   ]
  },
  {
   "cell_type": "code",
   "execution_count": 109,
   "metadata": {},
   "outputs": [
    {
     "data": {
      "image/png": "[encoded data removed]",
      "text/plain": [
       "<Figure size 432x288 with 1 Axes>"
      ]
     },
     "metadata": {
      "needs_background": "light"
     },
     "output_type": "display_data"
    },
    {
     "data": {
      "image/png": "[encoded data removed]",
      "text/plain": [
       "<Figure size 432x288 with 1 Axes>"
      ]
     },
     "metadata": {
      "needs_background": "light"
     },
     "output_type": "display_data"
    }
   ],
   "source": [
    "\n",
    "import matplotlib.pyplot as plt\n",
    "\n",
    "acc = history.history['accuracy']\n",
    "val_acc = history.history['val_accuracy']\n",
    "loss = history.history['loss']\n",
    "val_loss = history.history['val_loss']\n",
    "\n",
    "epochs = range(1, len(acc) + 1)\n",
    "\n",
    "plt.plot(epochs, acc, 'bo', label='Training acc')\n",
    "plt.plot(epochs, val_acc, 'b', label='Validation acc')\n",
    "plt.title('Training and validation accuracy')\n",
    "plt.legend()\n",
    "\n",
    "plt.figure()\n",
    "\n",
    "plt.plot(epochs, loss, 'bo', label='Training loss')\n",
    "plt.plot(epochs, val_loss, 'b', label='Validation loss')\n",
    "plt.title('Training and validation loss')\n",
    "plt.legend()\n",
    "\n",
    "plt.show()"
   ]
  },
  {
   "cell_type": "code",
   "execution_count": 111,
   "metadata": {},
   "outputs": [
    {
     "name": "stdout",
     "output_type": "stream",
     "text": [
      "Model: \"sequential_7\"\n",
      "_________________________________________________________________\n",
      "Layer (type)                 Output Shape              Param #   \n",
      "=================================================================\n",
      "embedding_7 (Embedding)      (None, 100, 100)          1000000   \n",
      "_________________________________________________________________\n",
      "flatten_7 (Flatten)          (None, 10000)             0         \n",
      "_________________________________________________________________\n",
      "dense_9 (Dense)              (None, 32)                320032    \n",
      "_________________________________________________________________\n",
      "dense_10 (Dense)             (None, 1)                 33        \n",
      "=================================================================\n",
      "Total params: 1,320,065\n",
      "Trainable params: 1,320,065\n",
      "Non-trainable params: 0\n",
      "_________________________________________________________________\n",
      "Epoch 1/10\n",
      "7/7 [==============================] - 0s 65ms/step - loss: 0.6959 - acc: 0.5100 - val_loss: 0.6922 - val_acc: 0.5185\n",
      "Epoch 2/10\n",
      "7/7 [==============================] - 0s 65ms/step - loss: 0.4727 - acc: 1.0000 - val_loss: 0.7070 - val_acc: 0.5127\n",
      "Epoch 3/10\n",
      "7/7 [==============================] - 0s 53ms/step - loss: 0.2618 - acc: 0.9900 - val_loss: 0.7126 - val_acc: 0.5195\n",
      "Epoch 4/10\n",
      "7/7 [==============================] - 0s 53ms/step - loss: 0.1195 - acc: 0.9900 - val_loss: 0.7433 - val_acc: 0.5117\n",
      "Epoch 5/10\n",
      "7/7 [==============================] - 0s 57ms/step - loss: 0.0621 - acc: 0.9950 - val_loss: 0.7103 - val_acc: 0.5286\n",
      "Epoch 6/10\n",
      "7/7 [==============================] - 0s 57ms/step - loss: 0.0298 - acc: 1.0000 - val_loss: 0.7147 - val_acc: 0.5280\n",
      "Epoch 7/10\n",
      "7/7 [==============================] - 0s 57ms/step - loss: 0.0161 - acc: 1.0000 - val_loss: 0.7154 - val_acc: 0.5306\n",
      "Epoch 8/10\n",
      "7/7 [==============================] - 0s 59ms/step - loss: 0.0095 - acc: 1.0000 - val_loss: 0.7283 - val_acc: 0.5283\n",
      "Epoch 9/10\n",
      "7/7 [==============================] - 0s 55ms/step - loss: 0.0057 - acc: 1.0000 - val_loss: 0.7284 - val_acc: 0.5340\n",
      "Epoch 10/10\n",
      "7/7 [==============================] - 0s 55ms/step - loss: 0.0035 - acc: 1.0000 - val_loss: 0.7440 - val_acc: 0.5317\n"
     ]
    }
   ],
   "source": [
    "model = Sequential()\n",
    "model.add(Embedding(max_words, embedding_dim, input_length=maxlen))\n",
    "model.add(Flatten())\n",
    "model.add(Dense(32, activation='relu'))\n",
    "model.add(Dense(1, activation='sigmoid'))\n",
    "model.summary()\n",
    "\n",
    "model.compile(optimizer='rmsprop',\n",
    "              loss='binary_crossentropy',\n",
    "              metrics=['acc'])\n",
    "history = model.fit(x_train, y_train,\n",
    "                    epochs=10,\n",
    "                    batch_size=32,\n",
    "                    validation_data=(x_val, y_val))"
   ]
  },
  {
   "cell_type": "code",
   "execution_count": 1,
   "metadata": {},
   "outputs": [
    {
     "name": "stdout",
     "output_type": "stream",
     "text": [
      "Loading data...\n",
      "25000 train sequences\n",
      "25000 test sequences\n",
      "Pad sequences (samples x time)\n",
      "input_train shape: (25000, 500)\n",
      "input_test shape: (25000, 500)\n"
     ]
    }
   ],
   "source": [
    "from tensorflow.keras.layers import Dense, Embedding, Flatten\n",
    "from tensorflow.keras.models import Sequential\n",
    "from tensorflow.keras.datasets import imdb\n",
    "from tensorflow.keras.preprocessing import sequence\n",
    "\n",
    "max_features = 10000  # number of words to consider as features\n",
    "maxlen = 500  # cut texts after this number of words (among top max_features most common words)\n",
    "batch_size = 32\n",
    "\n",
    "print('Loading data...')\n",
    "(input_train, y_train), (input_test, y_test) = imdb.load_data(num_words=max_features)\n",
    "print(len(input_train), 'train sequences')\n",
    "print(len(input_test), 'test sequences')\n",
    "\n",
    "print('Pad sequences (samples x time)')\n",
    "input_train = sequence.pad_sequences(input_train, maxlen=maxlen)\n",
    "input_test = sequence.pad_sequences(input_test, maxlen=maxlen)\n",
    "print('input_train shape:', input_train.shape)\n",
    "print('input_test shape:', input_test.shape)"
   ]
  },
  {
   "cell_type": "code",
   "execution_count": 2,
   "metadata": {},
   "outputs": [
    {
     "name": "stdout",
     "output_type": "stream",
     "text": [
      "Epoch 1/10\n",
      "157/157 [==============================] - 4s 28ms/step - loss: 0.5020 - acc: 0.7622 - val_loss: 0.3282 - val_acc: 0.8704\n",
      "Epoch 2/10\n",
      "157/157 [==============================] - 4s 25ms/step - loss: 0.2867 - acc: 0.8885 - val_loss: 0.4435 - val_acc: 0.8068\n",
      "Epoch 3/10\n",
      "157/157 [==============================] - 4s 25ms/step - loss: 0.2326 - acc: 0.9122 - val_loss: 0.2815 - val_acc: 0.8878\n",
      "Epoch 4/10\n",
      "157/157 [==============================] - 4s 26ms/step - loss: 0.1905 - acc: 0.9299 - val_loss: 0.3639 - val_acc: 0.8742\n",
      "Epoch 5/10\n",
      "157/157 [==============================] - 4s 25ms/step - loss: 0.1739 - acc: 0.9383 - val_loss: 0.3022 - val_acc: 0.8932\n",
      "Epoch 6/10\n",
      "157/157 [==============================] - 4s 25ms/step - loss: 0.1566 - acc: 0.9437 - val_loss: 0.2930 - val_acc: 0.8878\n",
      "Epoch 7/10\n",
      "157/157 [==============================] - 4s 25ms/step - loss: 0.1370 - acc: 0.9515 - val_loss: 0.4291 - val_acc: 0.8638\n",
      "Epoch 8/10\n",
      "157/157 [==============================] - 4s 25ms/step - loss: 0.1239 - acc: 0.9559 - val_loss: 0.3750 - val_acc: 0.8522\n",
      "Epoch 9/10\n",
      "157/157 [==============================] - 4s 25ms/step - loss: 0.1157 - acc: 0.9603 - val_loss: 0.3706 - val_acc: 0.8450\n",
      "Epoch 10/10\n",
      "157/157 [==============================] - 4s 26ms/step - loss: 0.1094 - acc: 0.9607 - val_loss: 0.3606 - val_acc: 0.8738\n"
     ]
    }
   ],
   "source": [
    "from tensorflow.keras.layers import LSTM\n",
    "\n",
    "model = Sequential()\n",
    "model.add(Embedding(max_features, 32))\n",
    "model.add(LSTM(32))\n",
    "model.add(Dense(1, activation='sigmoid'))\n",
    "\n",
    "model.compile(optimizer='rmsprop',\n",
    "              loss='binary_crossentropy',\n",
    "              metrics=['acc'])\n",
    "history = model.fit(input_train, y_train,\n",
    "                    epochs=10,\n",
    "                    batch_size=128,\n",
    "                    validation_split=0.2)"
   ]
  },
  {
   "cell_type": "markdown",
   "metadata": {},
   "source": [
    "# Advanced use of reccurent neural nets\n",
    "Tackling time series data using reccurent neural networks. \n",
    "\n",
    "More precisely, working on temperature forecasting based on several indicators. "
   ]
  },
  {
   "cell_type": "code",
   "execution_count": 1,
   "metadata": {},
   "outputs": [
    {
     "name": "stdout",
     "output_type": "stream",
     "text": [
      " aclImdb\r\n",
      " cats_and_dogs_reduced\r\n",
      " cats_and_dogs_small_2.h5\r\n",
      " cats_dogs_firstmodel.h5\r\n",
      "'Classifying newswires.ipynb'\r\n",
      "'CNNs on Chinese vs regular MNIST.ipynb'\r\n",
      "'Deep Learning for Computer Vision.ipynb'\r\n",
      "'Deep Learning for text and sequences.ipynb'\r\n",
      " dogs-vs-cats\r\n",
      " glove.6B\r\n",
      " jena_climate_2009_2016.csv\r\n",
      "'Predicting House Prices.ipynb'\r\n",
      " pre_trained_glove_model.h5\r\n",
      " tests.ipynb\r\n"
     ]
    }
   ],
   "source": [
    "!ls"
   ]
  },
  {
   "cell_type": "code",
   "execution_count": 1,
   "metadata": {},
   "outputs": [
    {
     "name": "stdout",
     "output_type": "stream",
     "text": [
      "15\n",
      "420551\n"
     ]
    }
   ],
   "source": [
    "import os \n",
    "\n",
    "# Name of the csv file to read\n",
    "fname = './jena_climate_2009_2016.csv'\n",
    "\n",
    "# Opening the file\n",
    "f = open(fname)\n",
    "# Since the file is a csv there is one line so we read that line \n",
    "data = f.read()\n",
    "f.close()\n",
    "\n",
    "# Get the lines \n",
    "lines = data.split('\\n')\n",
    "header = lines[0].split(',')\n",
    "lines = lines[1:]\n",
    "\n",
    "print(len(header))\n",
    "print(len(lines))"
   ]
  },
  {
   "cell_type": "code",
   "execution_count": 11,
   "metadata": {},
   "outputs": [
    {
     "name": "stdout",
     "output_type": "stream",
     "text": [
      "['\"Date Time\"', '\"p (mbar)\"', '\"T (degC)\"', '\"Tpot (K)\"', '\"Tdew (degC)\"', '\"rh (%)\"', '\"VPmax (mbar)\"', '\"VPact (mbar)\"', '\"VPdef (mbar)\"', '\"sh (g/kg)\"', '\"H2OC (mmol/mol)\"', '\"rho (g/m**3)\"', '\"wv (m/s)\"', '\"max. wv (m/s)\"', '\"wd (deg)\"']\n",
      "(420551, 14)\n"
     ]
    }
   ],
   "source": [
    "# Now we convert the lines to a numpy array\n",
    "\n",
    "import numpy as np\n",
    "\n",
    "array = np.zeros((len(lines),len(header)-1))\n",
    "\n",
    "print(header)\n",
    "\n",
    "for i, line in enumerate(lines):\n",
    "    values = [float(x) for x in line.split(',')[1:]] \n",
    "    array[i] = values\n",
    "    \n",
    "print(array.shape)"
   ]
  },
  {
   "cell_type": "code",
   "execution_count": 19,
   "metadata": {},
   "outputs": [
    {
     "data": {
      "image/png": "[encoded data removed]",
      "text/plain": [
       "<Figure size 1080x720 with 1 Axes>"
      ]
     },
     "metadata": {
      "needs_background": "light"
     },
     "output_type": "display_data"
    }
   ],
   "source": [
    "import matplotlib.pyplot as plt \n",
    "\n",
    "fig = plt.figure(figsize=(15,10))\n",
    "plt.plot(array[:1440,1],'r')\n",
    "plt.xlabel('Dates')\n",
    "plt.ylabel('Temperature in C')\n",
    "plt.title('Temperature in Germany 2009-2016 (first 10 days)')\n",
    "plt.show()"
   ]
  },
  {
   "cell_type": "code",
   "execution_count": 46,
   "metadata": {},
   "outputs": [],
   "source": [
    "# We will normalize the data \n",
    "\n",
    "training = array[:200000]\n",
    "\n",
    "mean = training.mean(axis = 0)\n",
    "array = array - mean\n",
    "\n",
    "std = training.std(axis = 0)\n",
    "array = array/std"
   ]
  },
  {
   "cell_type": "code",
   "execution_count": 47,
   "metadata": {},
   "outputs": [],
   "source": [
    "# We define a genertor that will generate couples of sequence, target\n",
    "\n",
    "def generator(data,lookback,delay,min_index,max_index,shuffle = False,batch_size = 128, step = 6):\n",
    "    \n",
    "    # If a maximum index has not been specified\n",
    "    if max_index is None:\n",
    "        # The maximum index is \n",
    "        max_index = array.shape[0] - delay - 1\n",
    "    \n",
    "    # The minium index\n",
    "    i = min_index + lookback\n",
    "    \n",
    "    # Generate \n",
    "    while 1:\n",
    "        # Shuffle the data if asked\n",
    "        if shuffle: \n",
    "            rows = np.random.randint(min_index + lookback, max_index, size= batch_size)\n",
    "        # Otherwise\n",
    "        else:\n",
    "            # If we get to the end of the array\n",
    "            if i + batch_size >= max_index:\n",
    "                # We get back to the beginning \n",
    "                i = min_index + lookback\n",
    "            # We set a new window of values\n",
    "            rows = np.arange(i,min(i+batch_size,max_index))\n",
    "            # We move the index\n",
    "            i += len(rows)\n",
    "        \n",
    "        # We initialize the samples and the targets\n",
    "        samples = np.zeros((len(rows),lookback//step,data.shape[-1]))\n",
    "        targets = np.zeros((len(rows),))\n",
    "        \n",
    "        # We go through the rows \n",
    "        for j, row in enumerate(rows):\n",
    "            indices = range(rows[j]-lookback, rows[j], step)\n",
    "            samples[j] = data[indices]\n",
    "            targets[j] = data[rows[j]+delay][1]\n",
    "        yield samples,targets\n",
    "    \n",
    "\n",
    "lookback = 1440\n",
    "step = 6\n",
    "delay = 144\n",
    "batch_size = 128"
   ]
  },
  {
   "cell_type": "code",
   "execution_count": 48,
   "metadata": {},
   "outputs": [],
   "source": [
    "def generator(data, lookback, delay, min_index, max_index,\n",
    "              shuffle=False, batch_size=128, step=6):\n",
    "    if max_index is None:\n",
    "        max_index = len(data) - delay - 1\n",
    "    i = min_index + lookback\n",
    "    while 1:\n",
    "        if shuffle:\n",
    "            rows = np.random.randint(\n",
    "                min_index + lookback, max_index, size=batch_size)\n",
    "        else:\n",
    "            if i + batch_size >= max_index:\n",
    "                i = min_index + lookback\n",
    "            rows = np.arange(i, min(i + batch_size, max_index))\n",
    "            i += len(rows)\n",
    "\n",
    "        samples = np.zeros((len(rows),\n",
    "                           lookback // step,\n",
    "                           data.shape[-1]))\n",
    "        targets = np.zeros((len(rows),))\n",
    "        for j, row in enumerate(rows):\n",
    "            indices = range(rows[j] - lookback, rows[j], step)\n",
    "            samples[j] = data[indices]\n",
    "            targets[j] = data[rows[j] + delay][1]\n",
    "        yield samples, targets"
   ]
  },
  {
   "cell_type": "code",
   "execution_count": 51,
   "metadata": {},
   "outputs": [
    {
     "name": "stdout",
     "output_type": "stream",
     "text": [
      "0.2897359729905488\n"
     ]
    }
   ],
   "source": [
    "\n",
    "lookback = 1440\n",
    "step = 6\n",
    "delay = 144\n",
    "batch_size = 128\n",
    "\n",
    "train_gen = generator(array,\n",
    "                      lookback=lookback,\n",
    "                      delay=delay,\n",
    "                      min_index=0,\n",
    "                      max_index=200000,\n",
    "                      shuffle=True,\n",
    "                      step=step, \n",
    "                      batch_size=batch_size)\n",
    "val_gen = generator(array,\n",
    "                    lookback=lookback,\n",
    "                    delay=delay,\n",
    "                    min_index=200001,\n",
    "                    max_index=300000,\n",
    "                    step=step,\n",
    "                    batch_size=batch_size)\n",
    "test_gen = generator(array,\n",
    "                     lookback=lookback,\n",
    "                     delay=delay,\n",
    "                     min_index=300001,\n",
    "                     max_index=None,\n",
    "                     step=step,\n",
    "                     batch_size=batch_size)\n",
    "\n",
    "# This is how many steps to draw from `val_gen`\n",
    "# in order to see the whole validation set:\n",
    "val_steps = (300000 - 200001 - lookback) // batch_size\n",
    "\n",
    "# This is how many steps to draw from `test_gen`\n",
    "# in order to see the whole test set:\n",
    "test_steps = (len(array) - 300001 - lookback) // batch_size\n",
    "\n",
    "def evaluate_naive_method():\n",
    "    batch_maes = []\n",
    "    for step in range(val_steps):\n",
    "        samples, targets = next(val_gen)\n",
    "        preds = samples[:, -1, 1]\n",
    "        mae = np.mean(np.abs(preds - targets))\n",
    "        batch_maes.append(mae)\n",
    "    print(np.mean(batch_maes))\n",
    "    \n",
    "evaluate_naive_method()"
   ]
  },
  {
   "cell_type": "code",
   "execution_count": 53,
   "metadata": {},
   "outputs": [
    {
     "data": {
      "text/plain": [
       "2.5645689841146764"
      ]
     },
     "execution_count": 53,
     "metadata": {},
     "output_type": "execute_result"
    }
   ],
   "source": [
    "celsius_mae = 0.2897* std[1]\n",
    "celsius_mae"
   ]
  },
  {
   "cell_type": "code",
   "execution_count": 54,
   "metadata": {},
   "outputs": [
    {
     "name": "stdout",
     "output_type": "stream",
     "text": [
      "Epoch 1/20\n",
      "500/500 [==============================] - 8s 16ms/step - loss: 1.2598 - val_loss: 0.7012\n",
      "Epoch 2/20\n",
      "500/500 [==============================] - 8s 15ms/step - loss: 0.5091 - val_loss: 0.4334\n",
      "Epoch 3/20\n",
      "500/500 [==============================] - 8s 15ms/step - loss: 0.3373 - val_loss: 0.3279\n",
      "Epoch 4/20\n",
      "500/500 [==============================] - 8s 16ms/step - loss: 0.2800 - val_loss: 0.3134\n",
      "Epoch 5/20\n",
      "500/500 [==============================] - 8s 15ms/step - loss: 0.2637 - val_loss: 0.3139\n",
      "Epoch 6/20\n",
      "500/500 [==============================] - 8s 16ms/step - loss: 0.2498 - val_loss: 0.3023\n",
      "Epoch 7/20\n",
      "500/500 [==============================] - 8s 15ms/step - loss: 0.2451 - val_loss: 0.3035\n",
      "Epoch 8/20\n",
      "500/500 [==============================] - 8s 16ms/step - loss: 0.2375 - val_loss: 0.3081\n",
      "Epoch 9/20\n",
      "500/500 [==============================] - 8s 15ms/step - loss: 0.2314 - val_loss: 0.3263\n",
      "Epoch 10/20\n",
      "500/500 [==============================] - 8s 15ms/step - loss: 0.2281 - val_loss: 0.3109\n",
      "Epoch 11/20\n",
      "500/500 [==============================] - 8s 16ms/step - loss: 0.2247 - val_loss: 0.3203\n",
      "Epoch 12/20\n",
      "500/500 [==============================] - 8s 15ms/step - loss: 0.2196 - val_loss: 0.3231\n",
      "Epoch 13/20\n",
      "500/500 [==============================] - 8s 15ms/step - loss: 0.2163 - val_loss: 0.3475\n",
      "Epoch 14/20\n",
      "500/500 [==============================] - 8s 16ms/step - loss: 0.2143 - val_loss: 0.3222\n",
      "Epoch 15/20\n",
      "500/500 [==============================] - 8s 16ms/step - loss: 0.2122 - val_loss: 0.3463\n",
      "Epoch 16/20\n",
      "500/500 [==============================] - 8s 16ms/step - loss: 0.2087 - val_loss: 0.3568\n",
      "Epoch 17/20\n",
      "500/500 [==============================] - 8s 16ms/step - loss: 0.2068 - val_loss: 0.3272\n",
      "Epoch 18/20\n",
      "500/500 [==============================] - 8s 16ms/step - loss: 0.2034 - val_loss: 0.3258\n",
      "Epoch 19/20\n",
      "500/500 [==============================] - 8s 15ms/step - loss: 0.2032 - val_loss: 0.3510\n",
      "Epoch 20/20\n",
      "500/500 [==============================] - 8s 16ms/step - loss: 0.2018 - val_loss: 0.3213\n"
     ]
    },
    {
     "data": {
      "text/plain": [
       "<tensorflow.python.keras.callbacks.History at 0x7f666c6dcc88>"
      ]
     },
     "execution_count": 54,
     "metadata": {},
     "output_type": "execute_result"
    }
   ],
   "source": [
    "# After the common sense method, we use a small fully connected network\n",
    "\n",
    "from tensorflow.keras.models import Sequential\n",
    "from tensorflow.keras.layers import Flatten, Dense, GRU\n",
    "\n",
    "model = Sequential()\n",
    "model.add(Flatten(input_shape = (lookback // step, array.shape[-1])))\n",
    "model.add(Dense(32,activation='relu'))\n",
    "model.add(Dense(1))\n",
    "\n",
    "model.compile(optimizer ='rmsprop',loss='mae')\n",
    "model.fit(train_gen, steps_per_epoch = 500, epochs = 20, validation_data = val_gen, validation_steps = val_steps)"
   ]
  },
  {
   "cell_type": "code",
   "execution_count": 59,
   "metadata": {},
   "outputs": [
    {
     "name": "stdout",
     "output_type": "stream",
     "text": [
      "Epoch 1/20\n",
      "500/500 [==============================] - 9s 18ms/step - loss: 0.3241 - val_loss: 0.2776\n",
      "Epoch 2/20\n",
      "500/500 [==============================] - 9s 18ms/step - loss: 0.3040 - val_loss: 0.2705\n",
      "Epoch 3/20\n",
      "500/500 [==============================] - 9s 18ms/step - loss: 0.2959 - val_loss: 0.2707\n",
      "Epoch 4/20\n",
      "500/500 [==============================] - 9s 17ms/step - loss: 0.2921 - val_loss: 0.2694\n",
      "Epoch 5/20\n",
      "500/500 [==============================] - 9s 18ms/step - loss: 0.2883 - val_loss: 0.2738\n",
      "Epoch 6/20\n",
      "500/500 [==============================] - 9s 18ms/step - loss: 0.2855 - val_loss: 0.2711\n",
      "Epoch 7/20\n",
      "500/500 [==============================] - 9s 18ms/step - loss: 0.2807 - val_loss: 0.2718\n",
      "Epoch 8/20\n",
      "500/500 [==============================] - 9s 18ms/step - loss: 0.2786 - val_loss: 0.2707\n",
      "Epoch 9/20\n",
      "500/500 [==============================] - 9s 18ms/step - loss: 0.2741 - val_loss: 0.2752\n",
      "Epoch 10/20\n",
      "500/500 [==============================] - 9s 18ms/step - loss: 0.2689 - val_loss: 0.2737\n",
      "Epoch 11/20\n",
      "500/500 [==============================] - 9s 18ms/step - loss: 0.2656 - val_loss: 0.2755\n",
      "Epoch 12/20\n",
      "500/500 [==============================] - 9s 18ms/step - loss: 0.2621 - val_loss: 0.2769\n",
      "Epoch 13/20\n",
      "500/500 [==============================] - 9s 18ms/step - loss: 0.2574 - val_loss: 0.2762\n",
      "Epoch 14/20\n",
      "500/500 [==============================] - 9s 18ms/step - loss: 0.2551 - val_loss: 0.2833\n",
      "Epoch 15/20\n",
      "500/500 [==============================] - 9s 18ms/step - loss: 0.2522 - val_loss: 0.2835\n",
      "Epoch 16/20\n",
      "500/500 [==============================] - 9s 18ms/step - loss: 0.2489 - val_loss: 0.2846\n",
      "Epoch 17/20\n",
      "500/500 [==============================] - 9s 18ms/step - loss: 0.2465 - val_loss: 0.2910\n",
      "Epoch 18/20\n",
      "500/500 [==============================] - 9s 18ms/step - loss: 0.2438 - val_loss: 0.2915\n",
      "Epoch 19/20\n",
      "500/500 [==============================] - 9s 18ms/step - loss: 0.2413 - val_loss: 0.2993\n",
      "Epoch 20/20\n",
      "500/500 [==============================] - 9s 18ms/step - loss: 0.2377 - val_loss: 0.2970\n"
     ]
    },
    {
     "data": {
      "text/plain": [
       "<tensorflow.python.keras.callbacks.History at 0x7f666c7fa048>"
      ]
     },
     "execution_count": 59,
     "metadata": {},
     "output_type": "execute_result"
    }
   ],
   "source": [
    "from tensorflow.keras.layers import GRU\n",
    "\n",
    "model = Sequential()\n",
    "model.add(GRU(32,dropout = 0.2,input_shape = (None, array.shape[-1])))\n",
    "model.add(Dense(1))\n",
    "\n",
    "model.compile(optimizer = 'rmsprop', loss='mae')\n",
    "\n",
    "model.fit(train_gen, steps_per_epoch = 500, epochs = 20, validation_data = val_gen, validation_steps = val_steps)"
   ]
  },
  {
   "cell_type": "code",
   "execution_count": null,
   "metadata": {},
   "outputs": [],
   "source": []
  }
 ],
 "metadata": {
  "kernelspec": {
   "display_name": "Python 3",
   "language": "python",
   "name": "python3"
  },
  "language_info": {
   "codemirror_mode": {
    "name": "ipython",
    "version": 3
   },
   "file_extension": ".py",
   "mimetype": "text/x-python",
   "name": "python",
   "nbconvert_exporter": "python",
   "pygments_lexer": "ipython3",
   "version": "3.6.9"
  }
 },
 "nbformat": 4,
 "nbformat_minor": 4
}
