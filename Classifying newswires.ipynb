{
 "cells": [
  {
   "cell_type": "code",
   "execution_count": 1,
   "metadata": {},
   "outputs": [],
   "source": [
    "import tensorflow as tf\n",
    "from tensorflow import keras\n",
    "from tensorflow.keras.models import Sequential\n",
    "from tensorflow.keras.layers import Dense\n",
    "from tensorflow.keras.datasets import reuters,mnist\n",
    "import numpy as np\n",
    "from tensorflow.keras.utils import to_categorical"
   ]
  },
  {
   "cell_type": "code",
   "execution_count": 76,
   "metadata": {},
   "outputs": [],
   "source": [
    "# We load the data, keeping the 10000 most recurring words in the dictionary\n",
    "(X_train_data, y_train_data), (X_test_data,y_test) = reuters.load_data(num_words=10000)"
   ]
  },
  {
   "cell_type": "code",
   "execution_count": 77,
   "metadata": {},
   "outputs": [
    {
     "name": "stdout",
     "output_type": "stream",
     "text": [
      "? ? ? said as a result of its december acquisition of space co it expects earnings per share in 1987 of 1 15 to 1 30 dlrs per share up from 70 cts in 1986 the company said pretax net should rise to nine to 10 mln dlrs from six mln dlrs in 1986 and rental operation revenues to 19 to 22 mln dlrs from 12 5 mln dlrs it said cash flow per share this year should be 2 50 to three dlrs reuter 3\n"
     ]
    }
   ],
   "source": [
    "# We get the index of words\n",
    "word_index = reuters.get_word_index()\n",
    "# We reverse it to get the word from the index\n",
    "reverse_word_index = dict([(value,key) for (key,value) in word_index.items()])\n",
    "# We reverse a review\n",
    "decoded_newswire = ' '.join([reverse_word_index.get(i - 3,'?') for i in X_train_data[0]])\n",
    "# We show it \n",
    "print(decoded_newswire)\n",
    "\n",
    "# Since we only took the 10000 most recurring words there are still some numbers in "
   ]
  },
  {
   "cell_type": "code",
   "execution_count": 78,
   "metadata": {},
   "outputs": [],
   "source": [
    "# We convert the labels to one-hot-encoding \n",
    "y_train_onehot = to_categorical(y_train_data)\n",
    "y_test_onehot = to_categorical(y_test)"
   ]
  },
  {
   "cell_type": "code",
   "execution_count": 79,
   "metadata": {},
   "outputs": [],
   "source": [
    "# Setting aside a validation set \n",
    "def vectorize_sequences(sequences, dimension = 10000):\n",
    "\tresults = np.zeros((len(sequences),dimension))\n",
    "\tfor i, sequence in enumerate(sequences):\n",
    "\t\tresults[i, sequence] = 1\n",
    "\treturn results\n",
    "\n",
    "\n",
    "X_train = vectorize_sequences(X_train_data)\n",
    "X_test = vectorize_sequences(X_test_data)\n",
    "\n",
    "X_val = X_train[:1000]\n",
    "partial_X_train = X_train[1000:]\n",
    "\n",
    "y_val = y_train_onehot[:1000]\n",
    "partial_y_train = y_train_onehot[1000:]\n"
   ]
  },
  {
   "cell_type": "code",
   "execution_count": 107,
   "metadata": {},
   "outputs": [],
   "source": [
    "# Building a model \n",
    "\n",
    "model = Sequential()\n",
    "model.add(Dense(128,activation='relu',input_shape = (10000,)))\n",
    "model.add(Dense(64,activation='relu'))\n",
    "model.add(Dense(64,activation='relu'))\n",
    "model.add(Dense(46,activation='softmax'))"
   ]
  },
  {
   "cell_type": "code",
   "execution_count": 108,
   "metadata": {},
   "outputs": [
    {
     "name": "stdout",
     "output_type": "stream",
     "text": [
      "Model: \"sequential_18\"\n",
      "_________________________________________________________________\n",
      "Layer (type)                 Output Shape              Param #   \n",
      "=================================================================\n",
      "dense_61 (Dense)             (None, 128)               1280128   \n",
      "_________________________________________________________________\n",
      "dense_62 (Dense)             (None, 64)                8256      \n",
      "_________________________________________________________________\n",
      "dense_63 (Dense)             (None, 64)                4160      \n",
      "_________________________________________________________________\n",
      "dense_64 (Dense)             (None, 46)                2990      \n",
      "=================================================================\n",
      "Total params: 1,295,534\n",
      "Trainable params: 1,295,534\n",
      "Non-trainable params: 0\n",
      "_________________________________________________________________\n"
     ]
    }
   ],
   "source": [
    "model.compile(optimizer='rmsprop',loss='categorical_crossentropy',metrics =['accuracy'])\n",
    "model.summary()"
   ]
  },
  {
   "cell_type": "code",
   "execution_count": 109,
   "metadata": {},
   "outputs": [
    {
     "name": "stdout",
     "output_type": "stream",
     "text": [
      "Epoch 1/10\n",
      "16/16 [==============================] - 0s 15ms/step - loss: 2.3150 - accuracy: 0.5558 - val_loss: 1.4781 - val_accuracy: 0.6810\n",
      "Epoch 2/10\n",
      "16/16 [==============================] - 0s 9ms/step - loss: 1.2336 - accuracy: 0.7301 - val_loss: 1.2163 - val_accuracy: 0.7370\n",
      "Epoch 3/10\n",
      "16/16 [==============================] - 0s 9ms/step - loss: 0.8996 - accuracy: 0.8009 - val_loss: 1.0735 - val_accuracy: 0.7740\n",
      "Epoch 4/10\n",
      "16/16 [==============================] - 0s 9ms/step - loss: 0.6796 - accuracy: 0.8507 - val_loss: 0.9887 - val_accuracy: 0.7880\n",
      "Epoch 5/10\n",
      "16/16 [==============================] - 0s 9ms/step - loss: 0.5057 - accuracy: 0.8894 - val_loss: 1.0224 - val_accuracy: 0.7800\n",
      "Epoch 6/10\n",
      "16/16 [==============================] - 0s 9ms/step - loss: 0.3792 - accuracy: 0.9221 - val_loss: 0.9629 - val_accuracy: 0.8000\n",
      "Epoch 7/10\n",
      "16/16 [==============================] - 0s 9ms/step - loss: 0.2964 - accuracy: 0.9339 - val_loss: 1.0314 - val_accuracy: 0.7850\n",
      "Epoch 8/10\n",
      "16/16 [==============================] - 0s 9ms/step - loss: 0.2339 - accuracy: 0.9440 - val_loss: 0.9791 - val_accuracy: 0.8110\n",
      "Epoch 9/10\n",
      "16/16 [==============================] - 0s 9ms/step - loss: 0.2057 - accuracy: 0.9470 - val_loss: 0.9886 - val_accuracy: 0.8120\n",
      "Epoch 10/10\n",
      "16/16 [==============================] - 0s 7ms/step - loss: 0.1654 - accuracy: 0.9520 - val_loss: 0.9897 - val_accuracy: 0.8020\n"
     ]
    }
   ],
   "source": [
    "history = model.fit(partial_X_train,partial_y_train, epochs = 10, batch_size = 512,validation_data=(X_val,y_val))"
   ]
  },
  {
   "cell_type": "code",
   "execution_count": 110,
   "metadata": {},
   "outputs": [
    {
     "data": {
      "image/png": "[encoded data removed]",
      "text/plain": [
       "<Figure size 432x288 with 1 Axes>"
      ]
     },
     "metadata": {
      "needs_background": "light"
     },
     "output_type": "display_data"
    },
    {
     "data": {
      "image/png": "[encoded data removed]",
      "text/plain": [
       "<Figure size 432x288 with 1 Axes>"
      ]
     },
     "metadata": {
      "needs_background": "light"
     },
     "output_type": "display_data"
    }
   ],
   "source": [
    "import matplotlib.pyplot as plt\n",
    "\n",
    "loss = history.history['loss']\n",
    "val_loss = history.history['val_loss']\n",
    "\n",
    "epochs = range(1,len(loss)+1)\n",
    "\n",
    "plt.plot(epochs,loss,'bo',label='Training Loss')\n",
    "plt.plot(epochs,val_loss,'b',label = 'Validation Loss')\n",
    "plt.title('Training and validation loss')\n",
    "plt.legend()\n",
    "plt.show()\n",
    "\n",
    "accuracy = history.history['accuracy']\n",
    "val_accuracy = history.history['val_accuracy']\n",
    "\n",
    "plt.plot(epochs,accuracy,'bo',label='Training Accuracy')\n",
    "plt.plot(epochs,val_accuracy,'b',label='Validation Accuracy')\n",
    "plt.title('Validation and Training Accuracy')\n",
    "plt.legend()\n",
    "plt.show()"
   ]
  },
  {
   "cell_type": "code",
   "execution_count": 111,
   "metadata": {},
   "outputs": [
    {
     "name": "stdout",
     "output_type": "stream",
     "text": [
      "71/71 [==============================] - 0s 2ms/step - loss: 1.1505 - accuracy: 0.7903\n"
     ]
    },
    {
     "data": {
      "text/plain": [
       "[1.1505305767059326, 0.7902938723564148]"
      ]
     },
     "execution_count": 111,
     "metadata": {},
     "output_type": "execute_result"
    }
   ],
   "source": [
    "model.evaluate(X_test,y_test_onehot)\n",
    "# 78% accuracy"
   ]
  },
  {
   "cell_type": "markdown",
   "metadata": {},
   "source": [
    "Now we will try to tinker with the network"
   ]
  },
  {
   "cell_type": "code",
   "execution_count": null,
   "metadata": {},
   "outputs": [],
   "source": []
  }
 ],
 "metadata": {
  "kernelspec": {
   "display_name": "Python 3",
   "language": "python",
   "name": "python3"
  },
  "language_info": {
   "codemirror_mode": {
    "name": "ipython",
    "version": 3
   },
   "file_extension": ".py",
   "mimetype": "text/x-python",
   "name": "python",
   "nbconvert_exporter": "python",
   "pygments_lexer": "ipython3",
   "version": "3.6.9"
  }
 },
 "nbformat": 4,
 "nbformat_minor": 4
}
